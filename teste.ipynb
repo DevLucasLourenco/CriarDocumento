{
 "cells": [
  {
   "cell_type": "code",
   "execution_count": 9,
   "metadata": {},
   "outputs": [
    {
     "name": "stdout",
     "output_type": "stream",
     "text": [
      "['a', 'b', 'c', 'd']\n",
      "['IDADE']\n"
     ]
    }
   ],
   "source": [
    "import re\n",
    "t1 = ['a','b']\n",
    "t2 = ['c','d']\n",
    "\n",
    "t1.extend(t2)\n",
    "print(t1)\n",
    "\n",
    "\n",
    "class Teste:\n",
    "\n",
    "    def __init__(self) -> None:\n",
    "        self.delimitador = '=='\n",
    "        regex = f'{self.delimitador}([^=]+){self.delimitador}'\n",
    "\n",
    "        texto = 'lucas tem ==IDADE=='\n",
    "\n",
    "        print(re.findall(regex, texto))\n",
    "\n",
    "\n",
    "\n",
    "t = Teste()"
   ]
  }
 ],
 "metadata": {
  "kernelspec": {
   "display_name": "Python 3",
   "language": "python",
   "name": "python3"
  },
  "language_info": {
   "codemirror_mode": {
    "name": "ipython",
    "version": 3
   },
   "file_extension": ".py",
   "mimetype": "text/x-python",
   "name": "python",
   "nbconvert_exporter": "python",
   "pygments_lexer": "ipython3",
   "version": "3.11.3"
  },
  "orig_nbformat": 4
 },
 "nbformat": 4,
 "nbformat_minor": 2
}
